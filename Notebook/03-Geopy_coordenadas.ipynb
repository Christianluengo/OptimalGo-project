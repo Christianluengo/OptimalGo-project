{
 "cells": [
  {
   "cell_type": "code",
   "execution_count": 1,
   "metadata": {},
   "outputs": [],
   "source": [
    "import pandas as pd\n",
    "from geopy.geocoders import Nominatim \n",
    "geolocator = Nominatim(user_agent=\"Christian\")"
   ]
  },
  {
   "cell_type": "code",
   "execution_count": 2,
   "metadata": {},
   "outputs": [
    {
     "data": {
      "text/html": [
       "<div>\n",
       "<style scoped>\n",
       "    .dataframe tbody tr th:only-of-type {\n",
       "        vertical-align: middle;\n",
       "    }\n",
       "\n",
       "    .dataframe tbody tr th {\n",
       "        vertical-align: top;\n",
       "    }\n",
       "\n",
       "    .dataframe thead th {\n",
       "        text-align: right;\n",
       "    }\n",
       "</style>\n",
       "<table border=\"1\" class=\"dataframe\">\n",
       "  <thead>\n",
       "    <tr style=\"text-align: right;\">\n",
       "      <th></th>\n",
       "      <th>reg</th>\n",
       "      <th>prov</th>\n",
       "      <th>coordenadas_prov</th>\n",
       "    </tr>\n",
       "  </thead>\n",
       "  <tbody>\n",
       "    <tr>\n",
       "      <th>0</th>\n",
       "      <td>ANDALUCIA</td>\n",
       "      <td>CORDOBA</td>\n",
       "      <td>(37.8845813, -4.7760138)</td>\n",
       "    </tr>\n",
       "    <tr>\n",
       "      <th>1</th>\n",
       "      <td>ANDALUCIA</td>\n",
       "      <td>JAEN</td>\n",
       "      <td>(37.9557275, -3.492055612037218)</td>\n",
       "    </tr>\n",
       "    <tr>\n",
       "      <th>2</th>\n",
       "      <td>ANDALUCIA</td>\n",
       "      <td>MALAGA</td>\n",
       "      <td>(36.7213028, -4.4216366)</td>\n",
       "    </tr>\n",
       "    <tr>\n",
       "      <th>3</th>\n",
       "      <td>ANDALUCIA</td>\n",
       "      <td>SEVILLA</td>\n",
       "      <td>(37.3886303, -5.9953403)</td>\n",
       "    </tr>\n",
       "  </tbody>\n",
       "</table>\n",
       "</div>"
      ],
      "text/plain": [
       "         reg     prov                  coordenadas_prov\n",
       "0  ANDALUCIA  CORDOBA          (37.8845813, -4.7760138)\n",
       "1  ANDALUCIA     JAEN  (37.9557275, -3.492055612037218)\n",
       "2  ANDALUCIA   MALAGA          (36.7213028, -4.4216366)\n",
       "3  ANDALUCIA  SEVILLA          (37.3886303, -5.9953403)"
      ]
     },
     "execution_count": 2,
     "metadata": {},
     "output_type": "execute_result"
    }
   ],
   "source": [
    "df = pd.read_csv('../Data/prov_reg.csv')\n",
    "df.head(4)"
   ]
  },
  {
   "cell_type": "code",
   "execution_count": 3,
   "metadata": {},
   "outputs": [],
   "source": [
    "def coordenadas(x):\n",
    "    location = geolocator.geocode(x)\n",
    "    x = (location.latitude, location.longitude)\n",
    "    return x\n",
    "\n",
    "df['coordenadas_prov'] = df['prov'].apply(coordenadas)"
   ]
  },
  {
   "cell_type": "code",
   "execution_count": 4,
   "metadata": {},
   "outputs": [
    {
     "data": {
      "text/html": [
       "<div>\n",
       "<style scoped>\n",
       "    .dataframe tbody tr th:only-of-type {\n",
       "        vertical-align: middle;\n",
       "    }\n",
       "\n",
       "    .dataframe tbody tr th {\n",
       "        vertical-align: top;\n",
       "    }\n",
       "\n",
       "    .dataframe thead th {\n",
       "        text-align: right;\n",
       "    }\n",
       "</style>\n",
       "<table border=\"1\" class=\"dataframe\">\n",
       "  <thead>\n",
       "    <tr style=\"text-align: right;\">\n",
       "      <th></th>\n",
       "      <th>reg</th>\n",
       "      <th>prov</th>\n",
       "      <th>coordenadas_prov</th>\n",
       "    </tr>\n",
       "  </thead>\n",
       "  <tbody>\n",
       "    <tr>\n",
       "      <th>0</th>\n",
       "      <td>ANDALUCIA</td>\n",
       "      <td>CORDOBA</td>\n",
       "      <td>(37.8845813, -4.7760138)</td>\n",
       "    </tr>\n",
       "    <tr>\n",
       "      <th>1</th>\n",
       "      <td>ANDALUCIA</td>\n",
       "      <td>JAEN</td>\n",
       "      <td>(37.9557275, -3.492055612037218)</td>\n",
       "    </tr>\n",
       "    <tr>\n",
       "      <th>2</th>\n",
       "      <td>ANDALUCIA</td>\n",
       "      <td>MALAGA</td>\n",
       "      <td>(36.7213028, -4.4216366)</td>\n",
       "    </tr>\n",
       "  </tbody>\n",
       "</table>\n",
       "</div>"
      ],
      "text/plain": [
       "         reg     prov                  coordenadas_prov\n",
       "0  ANDALUCIA  CORDOBA          (37.8845813, -4.7760138)\n",
       "1  ANDALUCIA     JAEN  (37.9557275, -3.492055612037218)\n",
       "2  ANDALUCIA   MALAGA          (36.7213028, -4.4216366)"
      ]
     },
     "execution_count": 4,
     "metadata": {},
     "output_type": "execute_result"
    }
   ],
   "source": [
    "df.head(3)"
   ]
  },
  {
   "cell_type": "code",
   "execution_count": 5,
   "metadata": {},
   "outputs": [],
   "source": [
    "# df.to_csv('../Data/prov_reg.csv', index=False)"
   ]
  }
 ],
 "metadata": {
  "kernelspec": {
   "display_name": "jupyter",
   "language": "python",
   "name": "jupyter"
  },
  "language_info": {
   "codemirror_mode": {
    "name": "ipython",
    "version": 3
   },
   "file_extension": ".py",
   "mimetype": "text/x-python",
   "name": "python",
   "nbconvert_exporter": "python",
   "pygments_lexer": "ipython3",
   "version": "3.8.5"
  }
 },
 "nbformat": 4,
 "nbformat_minor": 4
}
