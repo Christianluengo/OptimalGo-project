{
 "cells": [
  {
   "cell_type": "code",
   "execution_count": 1,
   "metadata": {},
   "outputs": [],
   "source": [
    "import pandas as pd\n",
    "pd.options.display.max_columns = None\n",
    "\n",
    "import pymongo"
   ]
  },
  {
   "cell_type": "code",
   "execution_count": 2,
   "metadata": {},
   "outputs": [
    {
     "data": {
      "text/plain": [
       "MongoClient(host=['localhost:27017'], document_class=dict, tz_aware=False, connect=True)"
      ]
     },
     "execution_count": 2,
     "metadata": {},
     "output_type": "execute_result"
    }
   ],
   "source": [
    "# nos conectamos con Mongo\n",
    "cliente = pymongo.MongoClient()\n",
    "cliente"
   ]
  },
  {
   "cell_type": "code",
   "execution_count": 3,
   "metadata": {},
   "outputs": [
    {
     "data": {
      "text/plain": [
       "['Ironhack', 'admin', 'alojamientos', 'config', 'local']"
      ]
     },
     "execution_count": 3,
     "metadata": {},
     "output_type": "execute_result"
    }
   ],
   "source": [
    "# vamos a chequear que bases de datos tenemos \n",
    "cliente.list_database_names()"
   ]
  },
  {
   "cell_type": "code",
   "execution_count": 4,
   "metadata": {},
   "outputs": [],
   "source": [
    "# creamos una base de datos nueva\n",
    "mydb = cliente[\"OptimalGo\"]"
   ]
  },
  {
   "cell_type": "code",
   "execution_count": 5,
   "metadata": {},
   "outputs": [],
   "source": [
    "# creamos una coleccion dentro de la BBDD\n",
    "coleccion = mydb.detalles"
   ]
  },
  {
   "cell_type": "markdown",
   "metadata": {},
   "source": [
    "# Insertar datos"
   ]
  },
  {
   "cell_type": "code",
   "execution_count": 6,
   "metadata": {},
   "outputs": [
    {
     "data": {
      "text/html": [
       "<div>\n",
       "<style scoped>\n",
       "    .dataframe tbody tr th:only-of-type {\n",
       "        vertical-align: middle;\n",
       "    }\n",
       "\n",
       "    .dataframe tbody tr th {\n",
       "        vertical-align: top;\n",
       "    }\n",
       "\n",
       "    .dataframe thead th {\n",
       "        text-align: right;\n",
       "    }\n",
       "</style>\n",
       "<table border=\"1\" class=\"dataframe\">\n",
       "  <thead>\n",
       "    <tr style=\"text-align: right;\">\n",
       "      <th></th>\n",
       "      <th>fecha</th>\n",
       "      <th>prov_re</th>\n",
       "      <th>coor_re</th>\n",
       "      <th>reg_re</th>\n",
       "      <th>prov_en</th>\n",
       "      <th>coor_en</th>\n",
       "      <th>reg_en</th>\n",
       "      <th>festivo</th>\n",
       "      <th>envios</th>\n",
       "      <th>forecast</th>\n",
       "      <th>lower_forecast</th>\n",
       "      <th>upper_forecast</th>\n",
       "      <th>trend</th>\n",
       "    </tr>\n",
       "  </thead>\n",
       "  <tbody>\n",
       "    <tr>\n",
       "      <th>0</th>\n",
       "      <td>2018-01-03</td>\n",
       "      <td>A CORUÑA</td>\n",
       "      <td>(43.3709703, -8.3959425)</td>\n",
       "      <td>GALICIA</td>\n",
       "      <td>PONTEVEDRA</td>\n",
       "      <td>(42.6075172, -8.4714942)</td>\n",
       "      <td>GALICIA</td>\n",
       "      <td>0.0</td>\n",
       "      <td>184.0</td>\n",
       "      <td>194</td>\n",
       "      <td>168</td>\n",
       "      <td>221</td>\n",
       "      <td>149</td>\n",
       "    </tr>\n",
       "    <tr>\n",
       "      <th>1</th>\n",
       "      <td>2018-01-04</td>\n",
       "      <td>A CORUÑA</td>\n",
       "      <td>(43.3709703, -8.3959425)</td>\n",
       "      <td>GALICIA</td>\n",
       "      <td>PONTEVEDRA</td>\n",
       "      <td>(42.6075172, -8.4714942)</td>\n",
       "      <td>GALICIA</td>\n",
       "      <td>0.0</td>\n",
       "      <td>173.0</td>\n",
       "      <td>186</td>\n",
       "      <td>160</td>\n",
       "      <td>214</td>\n",
       "      <td>149</td>\n",
       "    </tr>\n",
       "  </tbody>\n",
       "</table>\n",
       "</div>"
      ],
      "text/plain": [
       "        fecha   prov_re                   coor_re   reg_re     prov_en  \\\n",
       "0  2018-01-03  A CORUÑA  (43.3709703, -8.3959425)  GALICIA  PONTEVEDRA   \n",
       "1  2018-01-04  A CORUÑA  (43.3709703, -8.3959425)  GALICIA  PONTEVEDRA   \n",
       "\n",
       "                    coor_en   reg_en  festivo  envios  forecast  \\\n",
       "0  (42.6075172, -8.4714942)  GALICIA      0.0   184.0       194   \n",
       "1  (42.6075172, -8.4714942)  GALICIA      0.0   173.0       186   \n",
       "\n",
       "   lower_forecast  upper_forecast  trend  \n",
       "0             168             221    149  \n",
       "1             160             214    149  "
      ]
     },
     "execution_count": 6,
     "metadata": {},
     "output_type": "execute_result"
    }
   ],
   "source": [
    "df = pd.read_csv(\"../data/dataset_fusionado.csv\")\n",
    "df.head(2)"
   ]
  },
  {
   "cell_type": "code",
   "execution_count": 7,
   "metadata": {},
   "outputs": [
    {
     "data": {
      "text/plain": [
       "<pymongo.results.InsertManyResult at 0x7f57c4c175c0>"
      ]
     },
     "execution_count": 7,
     "metadata": {},
     "output_type": "execute_result"
    }
   ],
   "source": [
    "coleccion.insert_many(df.to_dict(\"records\"))"
   ]
  },
  {
   "cell_type": "code",
   "execution_count": 8,
   "metadata": {},
   "outputs": [
    {
     "data": {
      "text/plain": [
       "{'_id': ObjectId('62b6332917abce0715e69432'),\n",
       " 'fecha': '2018-01-08',\n",
       " 'prov_re': 'A CORUÑA',\n",
       " 'coor_re': '(43.3709703, -8.3959425)',\n",
       " 'reg_re': 'GALICIA',\n",
       " 'prov_en': 'PONTEVEDRA',\n",
       " 'coor_en': '(42.6075172, -8.4714942)',\n",
       " 'reg_en': 'GALICIA',\n",
       " 'festivo': 0.0,\n",
       " 'envios': 198.0,\n",
       " 'forecast': 201,\n",
       " 'lower_forecast': 174,\n",
       " 'upper_forecast': 228,\n",
       " 'trend': 149}"
      ]
     },
     "execution_count": 8,
     "metadata": {},
     "output_type": "execute_result"
    }
   ],
   "source": [
    "# vamos a chequear si esta bien creada\n",
    "list(coleccion.find())[3]"
   ]
  }
 ],
 "metadata": {
  "kernelspec": {
   "display_name": "jupyter",
   "language": "python",
   "name": "jupyter"
  },
  "language_info": {
   "codemirror_mode": {
    "name": "ipython",
    "version": 3
   },
   "file_extension": ".py",
   "mimetype": "text/x-python",
   "name": "python",
   "nbconvert_exporter": "python",
   "pygments_lexer": "ipython3",
   "version": "3.8.5"
  }
 },
 "nbformat": 4,
 "nbformat_minor": 4
}
